{
  "metadata": {
    "kernelspec": {
      "language": "python",
      "display_name": "Python 3",
      "name": "python3"
    },
    "language_info": {
      "name": "python",
      "version": "3.10.12",
      "mimetype": "text/x-python",
      "codemirror_mode": {
        "name": "ipython",
        "version": 3
      },
      "pygments_lexer": "ipython3",
      "nbconvert_exporter": "python",
      "file_extension": ".py"
    },
    "kaggle": {
      "accelerator": "nvidiaTeslaT4",
      "dataSources": [
        {
          "sourceId": 1400106,
          "sourceType": "datasetVersion",
          "datasetId": 818027
        }
      ],
      "dockerImageVersionId": 30558,
      "isInternetEnabled": false,
      "language": "python",
      "sourceType": "notebook",
      "isGpuEnabled": true
    },
    "colab": {
      "provenance": []
    }
  },
  "nbformat_minor": 0,
  "nbformat": 4,
  "cells": [
    {
      "cell_type": "code",
      "source": [
        "##get_ipython().kernel.do_shutdown(restart=True)       # Tor Restart the Kernal explicitly\n",
        "!nvidia-smi  # this should display information about available GPUs\n",
        "!pip install cudf-cu12 --extra-index-url=https://pypi.nvidia.com\n",
        "import cudf  # this should work without any errors\n",
        "!pip install plotly-express\n",
        "%load_ext cudf.pandas"
      ],
      "metadata": {
        "id": "8Z4y2cOI23F8"
      },
      "execution_count": null,
      "outputs": []
    },
    {
      "cell_type": "code",
      "source": [
        "import os\n",
        "\n",
        "base_dir = '/kaggle/input/handwriting-recognition'\n",
        "train_images_dir = os.path.join(base_dir, 'train_v2/train')\n",
        "validation_images_dir = os.path.join(base_dir, 'validation_v2/validation')\n",
        "test_images_dir = os.path.join(base_dir, 'test_v2/test')"
      ],
      "metadata": {
        "_uuid": "8f2839f25d086af736a60e9eeb907d3b93b6e0e5",
        "_cell_guid": "b1076dfc-b9ad-4769-8c92-a6c4dae69d19",
        "execution": {
          "iopub.status.busy": "2024-02-10T15:52:09.231015Z",
          "iopub.execute_input": "2024-02-10T15:52:09.232178Z",
          "iopub.status.idle": "2024-02-10T15:52:09.266271Z",
          "shell.execute_reply.started": "2024-02-10T15:52:09.232131Z",
          "shell.execute_reply": "2024-02-10T15:52:09.264931Z"
        },
        "trusted": true,
        "id": "tmVUji010lJx"
      },
      "execution_count": null,
      "outputs": []
    },
    {
      "cell_type": "markdown",
      "source": [
        "# **Importing Libraries**\n"
      ],
      "metadata": {
        "id": "i9sHlo2C0lJ0"
      }
    },
    {
      "cell_type": "code",
      "source": [
        "import numpy as np\n",
        "import pandas as pd\n",
        "import tensorflow as tf\n",
        "from tensorflow.keras import layers\n",
        "from tensorflow import keras\n",
        "import matplotlib.pyplot as plt\n",
        "import cv2\n",
        "from sklearn.metrics import classification_report"
      ],
      "metadata": {
        "execution": {
          "iopub.status.busy": "2024-02-10T15:52:09.268353Z",
          "iopub.execute_input": "2024-02-10T15:52:09.268844Z",
          "iopub.status.idle": "2024-02-10T15:52:21.179214Z",
          "shell.execute_reply.started": "2024-02-10T15:52:09.268802Z",
          "shell.execute_reply": "2024-02-10T15:52:21.177933Z"
        },
        "trusted": true,
        "id": "2T0RrQ_M0lJ4"
      },
      "execution_count": null,
      "outputs": []
    },
    {
      "cell_type": "code",
      "source": [
        "train_csv = pd.read_csv(os.path.join(base_dir, 'written_name_train_v2.csv'))\n",
        "validation_csv = pd.read_csv(os.path.join(base_dir, 'written_name_validation_v2.csv'))\n",
        "test_csv = pd.read_csv(os.path.join(base_dir, 'written_name_test_v2.csv'))"
      ],
      "metadata": {
        "execution": {
          "iopub.status.busy": "2024-02-10T15:52:21.181087Z",
          "iopub.execute_input": "2024-02-10T15:52:21.181828Z",
          "iopub.status.idle": "2024-02-10T15:52:21.891271Z",
          "shell.execute_reply.started": "2024-02-10T15:52:21.181789Z",
          "shell.execute_reply": "2024-02-10T15:52:21.889991Z"
        },
        "trusted": true,
        "id": "qQjR14YQ0lJ4"
      },
      "execution_count": null,
      "outputs": []
    },
    {
      "cell_type": "code",
      "source": [
        "train_csv.head()"
      ],
      "metadata": {
        "execution": {
          "iopub.status.busy": "2024-02-10T15:52:21.894128Z",
          "iopub.execute_input": "2024-02-10T15:52:21.894540Z",
          "iopub.status.idle": "2024-02-10T15:52:21.919558Z",
          "shell.execute_reply.started": "2024-02-10T15:52:21.894508Z",
          "shell.execute_reply": "2024-02-10T15:52:21.918007Z"
        },
        "trusted": true,
        "id": "Budgibr-0lJ6",
        "outputId": "bb80cbbe-0782-4aa5-c8ba-ba1bccc56b49"
      },
      "execution_count": null,
      "outputs": [
        {
          "execution_count": 4,
          "output_type": "execute_result",
          "data": {
            "text/plain": "          FILENAME   IDENTITY\n0  TRAIN_00001.jpg  BALTHAZAR\n1  TRAIN_00002.jpg      SIMON\n2  TRAIN_00003.jpg      BENES\n3  TRAIN_00004.jpg    LA LOVE\n4  TRAIN_00005.jpg     DAPHNE",
            "text/html": "<div>\n<style scoped>\n    .dataframe tbody tr th:only-of-type {\n        vertical-align: middle;\n    }\n\n    .dataframe tbody tr th {\n        vertical-align: top;\n    }\n\n    .dataframe thead th {\n        text-align: right;\n    }\n</style>\n<table border=\"1\" class=\"dataframe\">\n  <thead>\n    <tr style=\"text-align: right;\">\n      <th></th>\n      <th>FILENAME</th>\n      <th>IDENTITY</th>\n    </tr>\n  </thead>\n  <tbody>\n    <tr>\n      <th>0</th>\n      <td>TRAIN_00001.jpg</td>\n      <td>BALTHAZAR</td>\n    </tr>\n    <tr>\n      <th>1</th>\n      <td>TRAIN_00002.jpg</td>\n      <td>SIMON</td>\n    </tr>\n    <tr>\n      <th>2</th>\n      <td>TRAIN_00003.jpg</td>\n      <td>BENES</td>\n    </tr>\n    <tr>\n      <th>3</th>\n      <td>TRAIN_00004.jpg</td>\n      <td>LA LOVE</td>\n    </tr>\n    <tr>\n      <th>4</th>\n      <td>TRAIN_00005.jpg</td>\n      <td>DAPHNE</td>\n    </tr>\n  </tbody>\n</table>\n</div>"
          },
          "metadata": {}
        }
      ]
    },
    {
      "cell_type": "code",
      "source": [
        "train_csv.info()"
      ],
      "metadata": {
        "execution": {
          "iopub.status.busy": "2024-02-10T15:52:21.921539Z",
          "iopub.execute_input": "2024-02-10T15:52:21.922219Z",
          "iopub.status.idle": "2024-02-10T15:52:21.989135Z",
          "shell.execute_reply.started": "2024-02-10T15:52:21.922173Z",
          "shell.execute_reply": "2024-02-10T15:52:21.987769Z"
        },
        "trusted": true,
        "id": "v6DWs-r90lJ8",
        "outputId": "b9f68c5b-3f31-41b0-d016-f97ad86ae31a"
      },
      "execution_count": null,
      "outputs": [
        {
          "name": "stdout",
          "text": "<class 'pandas.core.frame.DataFrame'>\nRangeIndex: 330961 entries, 0 to 330960\nData columns (total 2 columns):\n #   Column    Non-Null Count   Dtype \n---  ------    --------------   ----- \n 0   FILENAME  330961 non-null  object\n 1   IDENTITY  330396 non-null  object\ndtypes: object(2)\nmemory usage: 5.1+ MB\n",
          "output_type": "stream"
        }
      ]
    },
    {
      "cell_type": "code",
      "source": [
        "# There are 565 null samples\n",
        "print(\"Number of null values in train_csv: \\n\",train_csv.isnull().sum())\n",
        "print('\\n---------------\\n')\n",
        "print(\"Number of null values in validation_csv: \\n\",validation_csv.isnull().sum())\n",
        "print('\\n---------------\\n')\n",
        "print(\"Number of null values in test_csv: \\n\",test_csv.isnull().sum())"
      ],
      "metadata": {
        "execution": {
          "iopub.status.busy": "2024-02-10T15:52:21.990651Z",
          "iopub.execute_input": "2024-02-10T15:52:21.991129Z",
          "iopub.status.idle": "2024-02-10T15:52:22.045017Z",
          "shell.execute_reply.started": "2024-02-10T15:52:21.991083Z",
          "shell.execute_reply": "2024-02-10T15:52:22.043873Z"
        },
        "trusted": true,
        "id": "a18ER8kr0lJ8",
        "outputId": "6d89e513-d96f-4c42-facd-f49f915e430d"
      },
      "execution_count": null,
      "outputs": [
        {
          "name": "stdout",
          "text": "Number of null values in train_csv: \n FILENAME      0\nIDENTITY    565\ndtype: int64\n\n---------------\n\nNumber of null values in validation_csv: \n FILENAME     0\nIDENTITY    78\ndtype: int64\n\n---------------\n\nNumber of null values in test_csv: \n FILENAME     0\nIDENTITY    70\ndtype: int64\n",
          "output_type": "stream"
        }
      ]
    },
    {
      "cell_type": "markdown",
      "source": [
        "# ***Data Cleansing***"
      ],
      "metadata": {
        "id": "ZU0cv5Xp0lJ5"
      }
    },
    {
      "cell_type": "code",
      "source": [
        "# Drop null samples\n",
        "train_csv = train_csv.dropna()\n",
        "validation_csv = validation_csv.dropna()\n",
        "test_csv = test_csv.dropna()"
      ],
      "metadata": {
        "execution": {
          "iopub.status.busy": "2024-02-10T15:52:22.046432Z",
          "iopub.execute_input": "2024-02-10T15:52:22.046908Z",
          "iopub.status.idle": "2024-02-10T15:52:22.128385Z",
          "shell.execute_reply.started": "2024-02-10T15:52:22.046866Z",
          "shell.execute_reply": "2024-02-10T15:52:22.127350Z"
        },
        "trusted": true,
        "id": "eV60sphW0lJ9"
      },
      "execution_count": null,
      "outputs": []
    },
    {
      "cell_type": "code",
      "source": [
        "# Plot unreadable image samples from train data\n",
        "unreadable_indexes = train_csv[train_csv['IDENTITY'] == 'UNREADABLE'].index\n",
        "\n",
        "plt.figure(figsize = (15,3))\n",
        "\n",
        "offset = 10\n",
        "for i in range(6):\n",
        "    ax = plt.subplot(2, 3, i+1)\n",
        "    image_name = train_csv.iloc[unreadable_indexes[i + offset],0]\n",
        "    image = cv2.imread(os.path.join(train_images_dir, image_name), cv2.IMREAD_GRAYSCALE)\n",
        "    plt.imshow(image, 'gray')"
      ],
      "metadata": {
        "execution": {
          "iopub.status.busy": "2024-02-10T15:52:22.129734Z",
          "iopub.execute_input": "2024-02-10T15:52:22.130071Z",
          "iopub.status.idle": "2024-02-10T15:52:23.306602Z",
          "shell.execute_reply.started": "2024-02-10T15:52:22.130043Z",
          "shell.execute_reply": "2024-02-10T15:52:23.305712Z"
        },
        "trusted": true,
        "id": "8Sw_IPCy0lJ9",
        "outputId": "1a6ddb14-6a19-42fd-fb5f-7712d5158c36"
      },
      "execution_count": null,
      "outputs": [
        {
          "output_type": "display_data",
          "data": {
            "text/plain": "<Figure size 1500x300 with 6 Axes>",
            "image/png": "[encoded data removed]"
          },
          "metadata": {}
        }
      ]
    },
    {
      "cell_type": "code",
      "source": [
        "train_csv = train_csv[train_csv['IDENTITY'] != 'UNREADABLE']\n",
        "\n",
        "validation_csv = validation_csv[validation_csv['IDENTITY'] != 'UNREADABLE']\n",
        "\n",
        "test_csv = test_csv[test_csv['IDENTITY'] != 'UNREADABLE']"
      ],
      "metadata": {
        "execution": {
          "iopub.status.busy": "2024-02-10T15:52:23.307931Z",
          "iopub.execute_input": "2024-02-10T15:52:23.309263Z",
          "iopub.status.idle": "2024-02-10T15:52:23.381391Z",
          "shell.execute_reply.started": "2024-02-10T15:52:23.309226Z",
          "shell.execute_reply": "2024-02-10T15:52:23.380124Z"
        },
        "trusted": true,
        "id": "dr-eCOSh0lJ9"
      },
      "execution_count": null,
      "outputs": []
    },
    {
      "cell_type": "code",
      "source": [
        "# Make all chars lowercase\n",
        "train_csv['IDENTITY'] = train_csv['IDENTITY'].str.lower()\n",
        "validation_csv['IDENTITY'] = validation_csv['IDENTITY'].str.lower()\n",
        "test_csv['IDENTITY'] = test_csv['IDENTITY'].str.lower()\n",
        "\n",
        "\n",
        "\n",
        "characters = set(char for label in train_csv['IDENTITY'].values for char in label)\n",
        "\n",
        "print(\"Number of samples found: \", len(train_csv.values))\n",
        "print(\"Number of unique characters: \", len(characters))\n",
        "print(\"Characters present: \", characters)"
      ],
      "metadata": {
        "execution": {
          "iopub.status.busy": "2024-02-10T15:52:23.385472Z",
          "iopub.execute_input": "2024-02-10T15:52:23.386291Z",
          "iopub.status.idle": "2024-02-10T15:52:23.751665Z",
          "shell.execute_reply.started": "2024-02-10T15:52:23.386217Z",
          "shell.execute_reply": "2024-02-10T15:52:23.750762Z"
        },
        "trusted": true,
        "id": "11Av1ZdY0lJ-",
        "outputId": "b8f4bc85-c82a-4045-e113-e2bb22cb9684"
      },
      "execution_count": null,
      "outputs": [
        {
          "name": "stdout",
          "text": "Number of samples found:  330294\nNumber of unique characters:  30\nCharacters present:  {\"'\", 'v', 'e', 'y', 'j', 'k', ' ', 'x', 'p', 'g', 'a', 'f', '`', 'h', 'd', 'z', 'n', 'o', 'w', 'm', 'c', 'l', '-', 'i', 'q', 't', 'b', 's', 'r', 'u'}\n",
          "output_type": "stream"
        }
      ]
    },
    {
      "cell_type": "markdown",
      "source": [
        "# **Data Pre-Processing**"
      ],
      "metadata": {
        "id": "aCD2JdPm0lJ_"
      }
    },
    {
      "cell_type": "code",
      "source": [
        "from tensorflow.keras.preprocessing.text import Tokenizer\n",
        "from tensorflow.keras.preprocessing.sequence import pad_sequences\n",
        "\n",
        "max_length = max([len(label) for label in train_csv['IDENTITY'].values])\n",
        "tokenizer = Tokenizer(num_words = max_length, char_level = True)\n",
        "tokenizer.fit_on_texts(train_csv['IDENTITY'].values)\n",
        "word_index = tokenizer.word_index\n",
        "\n",
        "# Tokenize the entire training dataset\n",
        "train_sequences = tokenizer.texts_to_sequences(train_csv['IDENTITY'].values)\n",
        "\n",
        "# Select one sample (e.g., the first sample)\n",
        "sample_index = 5  # Change this index to select a different sample\n",
        "sample_sequence = train_sequences[sample_index]\n",
        "\n",
        "# Convert the tokenized sequence back to text\n",
        "sample_text = tokenizer.sequences_to_texts([sample_sequence])\n",
        "\n",
        "# Print the result\n",
        "print(\"Sample sequence: \", sample_sequence)\n",
        "print(\"Sample text: \", sample_text[0])\n",
        "\n",
        "img_width = 224\n",
        "img_height = 224"
      ],
      "metadata": {
        "execution": {
          "iopub.status.busy": "2024-02-10T15:52:23.753008Z",
          "iopub.execute_input": "2024-02-10T15:52:23.753352Z",
          "iopub.status.idle": "2024-02-10T15:52:26.572015Z",
          "shell.execute_reply.started": "2024-02-10T15:52:23.753321Z",
          "shell.execute_reply": "2024-02-10T15:52:26.570750Z"
        },
        "trusted": true,
        "id": "4Pv-yo2Y0lJ_",
        "outputId": "0094626d-a662-449f-cc01-beee3ba2a74d"
      },
      "execution_count": null,
      "outputs": [
        {
          "name": "stdout",
          "text": "Sample sequence:  [5, 9, 12, 3, 1]\nSample text:  l u c i e\n",
          "output_type": "stream"
        }
      ]
    },
    {
      "cell_type": "markdown",
      "source": [
        "# **Image Pre-Processing **"
      ],
      "metadata": {
        "id": "z4CQq4hi0lKA"
      }
    },
    {
      "cell_type": "code",
      "source": [
        "images = train_csv['FILENAME'].values\n",
        "labels = train_csv['IDENTITY'].values\n",
        "\n",
        "\n",
        "def preprocess_single_sample(image_path, label, TEST = False):\n",
        "    if TEST:\n",
        "        img = cv2.imread(os.path.join(validation_images_dir, image_path), cv2.IMREAD_GRAYSCALE)\n",
        "    else:\n",
        "        img = cv2.imread(os.path.join(train_images_dir, image_path), cv2.IMREAD_GRAYSCALE)\n",
        "\n",
        "    img = cv2.resize(img,(img_height, img_width), interpolation = cv2.INTER_AREA)\n",
        "    img = cv2.rotate(img, cv2.ROTATE_90_CLOCKWISE) / 255 # normalize the pixels of images to not bias the data into some images\n",
        "\n",
        "    label_sequence = tokenizer.texts_to_sequences([label])\n",
        "    label = pad_sequences(label_sequence, maxlen = max_length, padding = 'post')[0]\n",
        "\n",
        "    return img,label"
      ],
      "metadata": {
        "execution": {
          "iopub.status.busy": "2024-02-10T15:52:26.573582Z",
          "iopub.execute_input": "2024-02-10T15:52:26.574036Z",
          "iopub.status.idle": "2024-02-10T15:52:26.582785Z",
          "shell.execute_reply.started": "2024-02-10T15:52:26.574002Z",
          "shell.execute_reply": "2024-02-10T15:52:26.581801Z"
        },
        "trusted": true,
        "id": "2BjvtkTX0lKA"
      },
      "execution_count": null,
      "outputs": []
    },
    {
      "cell_type": "code",
      "source": [
        "train_length = 9000\n",
        "validation_length = 2000\n",
        "test_length = 2000\n",
        "\n",
        "indices = np.arange(len(train_csv))\n",
        "np.random.shuffle(indices)\n",
        "\n",
        "test_indices = np.arange(len(test_csv))\n",
        "np.random.shuffle(test_indices)"
      ],
      "metadata": {
        "execution": {
          "iopub.status.busy": "2024-02-10T15:52:26.584200Z",
          "iopub.execute_input": "2024-02-10T15:52:26.585154Z",
          "iopub.status.idle": "2024-02-10T15:52:26.611313Z",
          "shell.execute_reply.started": "2024-02-10T15:52:26.585104Z",
          "shell.execute_reply": "2024-02-10T15:52:26.610150Z"
        },
        "trusted": true,
        "id": "rkED4DRI0lKA"
      },
      "execution_count": null,
      "outputs": []
    },
    {
      "cell_type": "code",
      "source": [
        "x_train = []\n",
        "y_train = []\n",
        "train_label_len = []\n",
        "for i in range(train_length):\n",
        "    image_name = train_csv.iloc[indices[i], 0]\n",
        "    label = train_csv.iloc[indices[i], 1]\n",
        "    train_label_len.append(len(label))\n",
        "\n",
        "    img, label = preprocess_single_sample(image_name, label)\n",
        "    img = np.expand_dims(img, axis = 2)\n",
        "    x_train.append(img)\n",
        "    y_train.append(label)\n",
        "\n",
        "x_train = np.array(x_train)\n",
        "y_train = np.array(y_train)\n",
        "train_label_len = np.array(train_label_len)"
      ],
      "metadata": {
        "execution": {
          "iopub.status.busy": "2024-02-10T15:52:26.613730Z",
          "iopub.execute_input": "2024-02-10T15:52:26.614543Z"
        },
        "trusted": true,
        "id": "njhNRFj60lKB"
      },
      "execution_count": null,
      "outputs": []
    },
    {
      "cell_type": "code",
      "source": [
        "x_train\n",
        "y_train"
      ],
      "metadata": {
        "trusted": true,
        "id": "2s4IRglY0lKC"
      },
      "execution_count": null,
      "outputs": []
    },
    {
      "cell_type": "code",
      "source": [
        "x_val = []\n",
        "y_val = []\n",
        "valid_label_len = []\n",
        "\n",
        "for i in range(train_length, train_length+validation_length):\n",
        "    image_name = train_csv.iloc[indices[i], 0]\n",
        "    label = train_csv.iloc[indices[i], 1]\n",
        "    valid_label_len.append(len(label))\n",
        "\n",
        "    img, label = preprocess_single_sample(image_name, label)\n",
        "    img = np.expand_dims(img, axis = 2)\n",
        "    x_val.append(img)\n",
        "    y_val.append(label)\n",
        "\n",
        "x_val = np.array(x_val)\n",
        "y_val = np.array(y_val)\n",
        "valid_label_len = np.array(valid_label_len)"
      ],
      "metadata": {
        "trusted": true,
        "id": "8acyVYcB0lKC"
      },
      "execution_count": null,
      "outputs": []
    },
    {
      "cell_type": "code",
      "source": [
        "x_test = []\n",
        "y_test = []\n",
        "\n",
        "for i in range(test_length):\n",
        "    image_name = train_csv.iloc[test_indices[i], 0]\n",
        "    label = train_csv.iloc[test_indices[i], 1]\n",
        "\n",
        "    img, _ = preprocess_single_sample(image_name, label)\n",
        "    img = np.expand_dims(img, axis = 2)\n",
        "    x_test.append(img)\n",
        "    y_test.append(label)\n",
        "\n",
        "x_test = np.array(x_test)\n",
        "y_test = np.array(y_test)"
      ],
      "metadata": {
        "trusted": true,
        "id": "4zu5IULR0lKC"
      },
      "execution_count": null,
      "outputs": []
    },
    {
      "cell_type": "code",
      "source": [
        "x_train.shape, x_val.shape, y_train.shape, y_val.shape"
      ],
      "metadata": {
        "trusted": true,
        "id": "CdYHn_zT0lKD"
      },
      "execution_count": null,
      "outputs": []
    },
    {
      "cell_type": "code",
      "source": [
        "train_input_len = np.ones([train_length, 1]) * 48\n",
        "valid_input_len = np.ones([validation_length, 1]) * 48\n",
        "valid_output = np.zeros([validation_length])"
      ],
      "metadata": {
        "trusted": true,
        "id": "U24Voafb0lKD"
      },
      "execution_count": null,
      "outputs": []
    },
    {
      "cell_type": "code",
      "source": [
        "class CTCLayer(layers.Layer):\n",
        "    def __init__(self,name=None):\n",
        "        super().__init__(name=name)\n",
        "        self.loss_fn = keras.backend.ctc_batch_cost\n",
        "\n",
        "    def call(self, y_true, y_pred):\n",
        "        batch_len = tf.cast(tf.shape(y_true)[0] , dtype = 'int64')\n",
        "        input_length = tf.cast(tf.shape(y_pred)[1], dtype='int64')\n",
        "        label_length = tf.cast(tf.shape(y_true)[1], dtype='int64')\n",
        "\n",
        "        input_length = input_length * tf.ones(shape=(batch_len,1), dtype = 'int64')\n",
        "        label_length = label_length * tf.ones(shape=(batch_len,1), dtype='int64')\n",
        "        loss = self.loss_fn(y_true,y_pred,input_length,label_length)\n",
        "        self.add_loss(loss)\n",
        "        return y_pred\n",
        "\n"
      ],
      "metadata": {
        "trusted": true,
        "id": "hpgaX1Av0lKD"
      },
      "execution_count": null,
      "outputs": []
    },
    {
      "cell_type": "code",
      "source": [
        "from keras import backend as K\n",
        "def ctc_loss(args):\n",
        "    labels, y_pred, input_length, label_length = args\n",
        "    return K.ctc_batch_cost(labels, y_pred, input_length, label_length)\n"
      ],
      "metadata": {
        "trusted": true,
        "id": "WIMjoTq90lKD"
      },
      "execution_count": null,
      "outputs": []
    },
    {
      "cell_type": "markdown",
      "source": [
        "# **Building Model**"
      ],
      "metadata": {
        "id": "m1tALF8Y1Nnj"
      }
    },
    {
      "cell_type": "code",
      "source": [
        "from tensorflow.keras.applications import VGG16, ResNet50\n",
        "from tensorflow import keras\n",
        "from tensorflow.keras import layers\n",
        "\n",
        "def build_model():\n",
        "    # Inputs to the model\n",
        "    input_img = layers.Input(shape=(img_height, img_width, 1), name=\"image\")\n",
        "    labels = layers.Input(name=\"label\", shape=(max_length,))\n",
        "    input_length = layers.Input(name='input_length', shape=(1,))\n",
        "    label_length = layers.Input(name='label_length', shape=(1,))\n",
        "\n",
        "\n",
        "\n",
        "    # Convert grayscale image to RGB format\n",
        "    x = layers.Lambda(lambda x: keras.backend.repeat_elements(x, 3, axis=-1))(input_img)\n",
        "\n",
        "    # Load the pre-trained VGG16 model without the top classification layers\n",
        "    vgg_base = ResNet50(weights='imagenet', include_top=False, input_tensor=x)\n",
        "\n",
        "    # Freeze the VGG base layers to prevent them from being updated during training\n",
        "    for layer in vgg_base.layers:\n",
        "        layer.trainable = False\n",
        "\n",
        "    # Add your custom layers on top of the VGG base\n",
        "    x = vgg_base.output\n",
        "    #x = layers.Flatten(name=\"flatten\")(x)\n",
        "\n",
        "    print(x)\n",
        "\n",
        "\n",
        "     # Reshape the output tensor to be 3D for the LSTM layers\n",
        "    #x = layers.Reshape((56, -1))(x)  # Reshape to (1, features)\n",
        "    # Change this reshape line to allow variable sequence lengths\n",
        "    x = layers.Reshape((-1, x.shape[-1]))(x)\n",
        "\n",
        "    x = layers.Dense(64, activation=\"relu\", name=\"dense1\")(x)\n",
        "    x = layers.Dropout(0.2)(x)\n",
        "\n",
        "\n",
        "\n",
        "    # RNN\n",
        "    x = layers.Bidirectional(layers.LSTM(256, return_sequences=True, dropout=0.25))(x)\n",
        "    x = layers.Bidirectional(layers.LSTM(256, return_sequences=True, dropout=0.25))(x)\n",
        "\n",
        "    # Output layer\n",
        "    y_pred = layers.Dense(len(characters) + 1, activation=\"softmax\", name=\"output\")(x)\n",
        "\n",
        "    loss_out = layers.Lambda(ctc_loss, output_shape=(1,), name='ctc')([labels, y_pred, input_length, label_length])\n",
        "\n",
        "    # Define the model\n",
        "    model = keras.models.Model(inputs=[input_img, labels, input_length, label_length],\n",
        "                               outputs=loss_out,\n",
        "                               name=\"ocr_model_resnet50\")\n",
        "\n",
        "    # Compile the model\n",
        "    opt = keras.optimizers.Adam()\n",
        "    model.compile(loss={'ctc': lambda y_true, y_pred: y_pred}, optimizer=opt)\n",
        "\n",
        "    return model\n"
      ],
      "metadata": {
        "trusted": true,
        "id": "GA5xypb10lKD"
      },
      "execution_count": null,
      "outputs": []
    },
    {
      "cell_type": "code",
      "source": [
        "model = build_model()\n",
        "model.summary()"
      ],
      "metadata": {
        "trusted": true,
        "id": "ewiIqO2A0lKE"
      },
      "execution_count": null,
      "outputs": []
    },
    {
      "cell_type": "code",
      "source": [
        "epochs = 50\n",
        "early_stopping_patience = 10\n",
        "# Add early stopping\n",
        "early_stopping = keras.callbacks.EarlyStopping(\n",
        "    monitor=\"val_loss\", patience=early_stopping_patience, restore_best_weights=True\n",
        ")\n",
        "\n",
        "# Train the model\n",
        "history = model.fit(\n",
        "    x = (x_train, y_train, train_input_len, train_label_len), y = np.zeros([train_length]),\n",
        "    validation_data = ([x_val, y_val, valid_input_len, valid_label_len],\n",
        "                       np.zeros([validation_length]) ),\n",
        "    epochs=epochs,batch_size = 128,\n",
        "    callbacks=[early_stopping]\n",
        ")"
      ],
      "metadata": {
        "trusted": true,
        "id": "OxNFo6cR0lKE"
      },
      "execution_count": null,
      "outputs": []
    },
    {
      "cell_type": "code",
      "source": [
        "plt.plot(history.history['loss'])\n",
        "plt.plot(history.history['val_loss'])\n",
        "plt.title('Training Loss vs Validation Loss')\n",
        "plt.ylabel('Loss')\n",
        "plt.xlabel('Epoch')\n",
        "plt.legend(['Train', 'Validation'], loc='upper left')\n",
        "plt.show()"
      ],
      "metadata": {
        "trusted": true,
        "id": "eRsoijAC0lKF"
      },
      "execution_count": null,
      "outputs": []
    },
    {
      "cell_type": "markdown",
      "source": [
        "# **Model Prediction**"
      ],
      "metadata": {
        "id": "pl97cZVl0lKF"
      }
    },
    {
      "cell_type": "code",
      "source": [
        "prediction_model = keras.models.Model(\n",
        "    model.get_layer(name=\"image\").input, model.get_layer(name=\"output\").output\n",
        ")\n",
        "prediction_model.summary()"
      ],
      "metadata": {
        "trusted": true,
        "id": "tOaOX2J-0lKF"
      },
      "execution_count": null,
      "outputs": []
    },
    {
      "cell_type": "markdown",
      "source": [
        "# **Prediction Decoding**"
      ],
      "metadata": {
        "id": "g9V5pyG40lKF"
      }
    },
    {
      "cell_type": "code",
      "source": [
        "def decode_predictions(pred):\n",
        "    input_len = np.ones(pred.shape[0]) * pred.shape[1]\n",
        "    results = keras.backend.ctc_decode(pred, input_length=input_len, greedy=True)[0][0][\n",
        "        :, :max_length\n",
        "    ]\n",
        "    output_text = []\n",
        "    for res in results:\n",
        "        decoded = tokenizer.sequences_to_texts([res.numpy()])\n",
        "        output_text.append(decoded)\n",
        "    return output_text"
      ],
      "metadata": {
        "trusted": true,
        "id": "g0eNXHVO0lKF"
      },
      "execution_count": null,
      "outputs": []
    },
    {
      "cell_type": "code",
      "source": [
        "preds = prediction_model.predict(x_test)\n",
        "pred_texts = decode_predictions(preds)"
      ],
      "metadata": {
        "trusted": true,
        "id": "Hclz1ZWs0lKG"
      },
      "execution_count": null,
      "outputs": []
    },
    {
      "cell_type": "code",
      "source": [
        "correct = 0\n",
        "correct_char = 0\n",
        "total_char = 0\n",
        "test_length = len(pred_texts)\n",
        "\n",
        "for i in range(test_length):\n",
        "    pr = pred_texts[i][0].replace(' ', '')  # Extract the predicted word from the list\n",
        "    tr = y_test[i]\n",
        "    total_char += len(tr)\n",
        "    for j in range(min(len(tr), len(pr))):\n",
        "        if tr[j] == pr[j]:\n",
        "            correct_char += 1\n",
        "    if pr == tr:\n",
        "        correct += 1\n",
        "\n",
        "accuracy = (correct / test_length) * 100\n",
        "acc = (correct_char * 100 / total_char)\n",
        "\n",
        "print(f'Correct characters predicted : {acc:.2f}%')\n",
        "print(f'Correct words predicted: {accuracy:.2f}%')"
      ],
      "metadata": {
        "trusted": true,
        "id": "AraqcvVO0lKG"
      },
      "execution_count": null,
      "outputs": []
    },
    {
      "cell_type": "code",
      "source": [
        "for i in range(test_length):\n",
        "    pred_texts[i][0] = pred_texts[i][0].replace(' ', '')"
      ],
      "metadata": {
        "trusted": true,
        "id": "Ymj3yNo20lKG"
      },
      "execution_count": null,
      "outputs": []
    },
    {
      "cell_type": "code",
      "source": [
        "from sklearn.metrics import precision_score, recall_score, f1_score\n",
        "\n",
        "\n",
        "precision = precision_score(y_test, pred_texts, average='weighted')\n",
        "recall = recall_score(y_test, pred_texts, average='weighted')\n",
        "f1 = f1_score(y_test, pred_texts, average='weighted')\n",
        "\n",
        "print(f'Precision: {precision:.2f}')\n",
        "print(f'Recall: {recall:.2f}')\n",
        "print(f'F1-Score: {f1:.2f}')\n"
      ],
      "metadata": {
        "trusted": true,
        "id": "9WtcnA6i0lKH"
      },
      "execution_count": null,
      "outputs": []
    },
    {
      "cell_type": "markdown",
      "source": [
        "# **Test Dataset Prediction**"
      ],
      "metadata": {
        "id": "Mg3cLrx60lKH"
      }
    },
    {
      "cell_type": "code",
      "source": [
        "num_images = 25\n",
        "num_rows = int(np.ceil(num_images / 4))\n",
        "num_cols = 4\n",
        "\n",
        "fig, ax = plt.subplots(num_rows, num_cols, figsize=(15, 5))\n",
        "\n",
        "for i in range(num_images):\n",
        "    img = x_test[i]\n",
        "    img = cv2.rotate(img, cv2.ROTATE_90_COUNTERCLOCKWISE)\n",
        "    title = f\"Prediction: {pred_texts[i][0]}\"\n",
        "    ax[i // num_cols, i % num_cols].imshow(img, cmap=\"gray\")\n",
        "    ax[i // num_cols, i % num_cols].set_title(title)\n",
        "    ax[i // num_cols, i % num_cols].axis(\"off\")\n",
        "\n",
        "# Hide any empty subplots\n",
        "for i in range(num_images, num_rows * num_cols):\n",
        "    ax[i // num_cols, i % num_cols].axis(\"off\")\n",
        "\n",
        "plt.tight_layout()\n",
        "plt.show()\n"
      ],
      "metadata": {
        "trusted": true,
        "id": "4r3Lvy8k0lKH"
      },
      "execution_count": null,
      "outputs": []
    },
    {
      "cell_type": "code",
      "source": [
        "_, ax = plt.subplots(4, 4, figsize=(15, 5))\n",
        "for i in range(16):\n",
        "    img = x_test[i]\n",
        "    img = cv2.rotate(img, cv2.ROTATE_90_COUNTERCLOCKWISE)\n",
        "    title = f\"Prediction: {pred_texts[i][0]}\"\n",
        "    ax[i // 4, i % 4].imshow(img, cmap=\"gray\")\n",
        "    ax[i // 4, i % 4].set_title(title)\n",
        "    ax[i // 4, i % 4].axis(\"off\")\n",
        "plt.show()"
      ],
      "metadata": {
        "trusted": true,
        "id": "uFSh49Pf0lKJ"
      },
      "execution_count": null,
      "outputs": []
    }
  ]
}